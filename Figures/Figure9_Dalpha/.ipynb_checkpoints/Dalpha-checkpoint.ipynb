{
 "cells": [
  {
   "cell_type": "code",
   "execution_count": 2,
   "metadata": {},
   "outputs": [],
   "source": [
    "import numpy as np\n",
    "import matplotlib.pyplot as plt\n",
    "%matplotlib inline\n",
    "\n",
    "from scipy.special import erfinv"
   ]
  },
  {
   "cell_type": "code",
   "execution_count": 2,
   "metadata": {},
   "outputs": [],
   "source": [
    "#xi is the list of random numbers\n",
    "N = 1000\n",
    "xi = np.random.normal(loc=0, scale=1, size=N)"
   ]
  },
  {
   "cell_type": "code",
   "execution_count": 3,
   "metadata": {},
   "outputs": [],
   "source": [
    "# The actual function to compute Dalpha\n",
    "def compute_Dalpha(xi, alpha=0.5):\n",
    "    xi_alpha = np.sqrt(2.0) * erfinv(2*alpha - 1)\n",
    "    Dalpha = np.mean(xi <= xi_alpha)\n",
    "    return Dalpha"
   ]
  },
  {
   "cell_type": "code",
   "execution_count": 4,
   "metadata": {},
   "outputs": [],
   "source": [
    "alpha_v  = np.linspace(0, 1, 10)\n",
    "Dalpha_v = np.zeros(len(alpha_v))\n",
    "for i, alpha in enumerate(alpha_v):\n",
    "    Dalpha_v[i] = compute_Dalpha(xi, alpha)"
   ]
  },
  {
   "cell_type": "code",
   "execution_count": 10,
   "metadata": {},
   "outputs": [
    {
     "data": {
      "text/plain": [
       "array([0.   , 0.118, 0.234, 0.341, 0.45 , 0.559, 0.654, 0.768, 0.886,\n",
       "       1.   ])"
      ]
     },
     "execution_count": 10,
     "metadata": {},
     "output_type": "execute_result"
    }
   ],
   "source": [
    "Dalpha_v"
   ]
  },
  {
   "cell_type": "code",
   "execution_count": 6,
   "metadata": {
    "scrolled": true
   },
   "outputs": [
    {
     "data": {
      "image/png": "[encoded data removed]",
      "text/plain": [
       "<Figure size 432x288 with 1 Axes>"
      ]
     },
     "metadata": {
      "needs_background": "light"
     },
     "output_type": "display_data"
    }
   ],
   "source": [
    "fig = plt.figure()\n",
    "ax = fig.add_subplot(111)\n",
    "ax.plot(alpha_v, Dalpha_v, 'o')\n",
    "ax.plot(alpha_v, alpha_v)\n",
    "ax.set_aspect('equal')"
   ]
  },
  {
   "cell_type": "code",
   "execution_count": 3,
   "metadata": {},
   "outputs": [],
   "source": [
    "a  = np.array([3,5,6,7])\n",
    "b  = np.array([3,5])"
   ]
  },
  {
   "cell_type": "code",
   "execution_count": 12,
   "metadata": {},
   "outputs": [
    {
     "data": {
      "text/plain": [
       "True"
      ]
     },
     "execution_count": 12,
     "metadata": {},
     "output_type": "execute_result"
    }
   ],
   "source": [
    "np.all(np.isin(b,a))"
   ]
  },
  {
   "cell_type": "code",
   "execution_count": 13,
   "metadata": {},
   "outputs": [
    {
     "name": "stdout",
     "output_type": "stream",
     "text": [
      " Volume in drive C has no label.\n",
      " Volume Serial Number is BCBF-D475\n",
      "\n",
      " Directory of C:\\Users\\18503\\Dropbox\\RA\\Code\\RA\\PatchUp\\PatchUp\\Sachin\\Figures\\Figure9_Dalpha\n",
      "\n",
      "03/03/2021  10:24 PM    <DIR>          .\n",
      "03/03/2021  10:24 PM    <DIR>          ..\n",
      "02/22/2021  03:44 PM    <DIR>          .ipynb_checkpoints\n",
      "03/03/2021  04:49 PM             9,937 Dalpha.ipynb\n",
      "03/03/2021  01:00 AM            93,687 Dalpha.pdf\n",
      "03/03/2021  10:24 PM         1,305,634 Eta_h.txt\n",
      "03/03/2021  10:24 PM         1,306,295 Eta_phi.txt\n",
      "03/03/2021  10:19 PM            12,861 plotDalpha.py\n",
      "02/23/2021  04:41 PM             3,079 readme.txt\n",
      "               6 File(s)      2,731,493 bytes\n",
      "               3 Dir(s)  71,123,435,520 bytes free\n"
     ]
    }
   ],
   "source": [
    "ls"
   ]
  },
  {
   "cell_type": "code",
   "execution_count": 19,
   "metadata": {},
   "outputs": [],
   "source": [
    "import pandas as pd"
   ]
  },
  {
   "cell_type": "code",
   "execution_count": 23,
   "metadata": {},
   "outputs": [],
   "source": []
  },
  {
   "cell_type": "code",
   "execution_count": 88,
   "metadata": {
    "scrolled": true
   },
   "outputs": [
    {
     "data": {
      "text/html": [
       "<div>\n",
       "<style scoped>\n",
       "    .dataframe tbody tr th:only-of-type {\n",
       "        vertical-align: middle;\n",
       "    }\n",
       "\n",
       "    .dataframe tbody tr th {\n",
       "        vertical-align: top;\n",
       "    }\n",
       "\n",
       "    .dataframe thead th {\n",
       "        text-align: right;\n",
       "    }\n",
       "</style>\n",
       "<table border=\"1\" class=\"dataframe\">\n",
       "  <thead>\n",
       "    <tr style=\"text-align: right;\">\n",
       "      <th></th>\n",
       "      <th>30</th>\n",
       "      <th>53</th>\n",
       "      <th>102</th>\n",
       "      <th>202</th>\n",
       "    </tr>\n",
       "  </thead>\n",
       "  <tbody>\n",
       "    <tr>\n",
       "      <th>1</th>\n",
       "      <td>-8.013331</td>\n",
       "      <td>-9.967161</td>\n",
       "      <td>-8.013331</td>\n",
       "      <td>-9.967161</td>\n",
       "    </tr>\n",
       "    <tr>\n",
       "      <th>2</th>\n",
       "      <td>-7.730841</td>\n",
       "      <td>-9.499974</td>\n",
       "      <td>-7.730841</td>\n",
       "      <td>-9.499974</td>\n",
       "    </tr>\n",
       "    <tr>\n",
       "      <th>3</th>\n",
       "      <td>-7.453219</td>\n",
       "      <td>-9.038466</td>\n",
       "      <td>-7.453219</td>\n",
       "      <td>-9.038466</td>\n",
       "    </tr>\n",
       "    <tr>\n",
       "      <th>4</th>\n",
       "      <td>-7.180075</td>\n",
       "      <td>-8.582123</td>\n",
       "      <td>-7.180075</td>\n",
       "      <td>-8.582123</td>\n",
       "    </tr>\n",
       "    <tr>\n",
       "      <th>5</th>\n",
       "      <td>-6.911009</td>\n",
       "      <td>-8.130420</td>\n",
       "      <td>-6.911009</td>\n",
       "      <td>-8.130420</td>\n",
       "    </tr>\n",
       "  </tbody>\n",
       "</table>\n",
       "</div>"
      ],
      "text/plain": [
       "        30        53        102       202\n",
       "1 -8.013331 -9.967161 -8.013331 -9.967161\n",
       "2 -7.730841 -9.499974 -7.730841 -9.499974\n",
       "3 -7.453219 -9.038466 -7.453219 -9.038466\n",
       "4 -7.180075 -8.582123 -7.180075 -8.582123\n",
       "5 -6.911009 -8.130420 -6.911009 -8.130420"
      ]
     },
     "execution_count": 88,
     "metadata": {},
     "output_type": "execute_result"
    }
   ],
   "source": [
    "df = pd.read_csv('temp/Eta_h.txt', sep=\" \", header=None)\n",
    "df = pd.concat([df, df],axis=1)\n",
    "new_header = [30,53,102,202]\n",
    "df = df[1:]\n",
    "df.columns = new_header\n",
    "df.head()"
   ]
  },
  {
   "cell_type": "code",
   "execution_count": 87,
   "metadata": {},
   "outputs": [
    {
     "data": {
      "text/plain": [
       "0.5275298804780877"
      ]
     },
     "execution_count": 87,
     "metadata": {},
     "output_type": "execute_result"
    }
   ],
   "source": [
    "np.mean(df[30] < 0.01)"
   ]
  },
  {
   "cell_type": "code",
   "execution_count": 81,
   "metadata": {},
   "outputs": [
    {
     "name": "stdout",
     "output_type": "stream",
     "text": [
      "<class 'numpy.ndarray'>\n"
     ]
    }
   ],
   "source": [
    "print(type(df.columns.values))"
   ]
  },
  {
   "cell_type": "code",
   "execution_count": 89,
   "metadata": {},
   "outputs": [],
   "source": [
    "    Folder_mapping = {\n",
    "       50 : 30,\n",
    "       100: 53,\n",
    "       200: 102,\n",
    "       400: 202,\n",
    "       800: 402,\n",
    "       1600: 815,\n",
    "       3200: 1606\n",
    "    }"
   ]
  },
  {
   "cell_type": "code",
   "execution_count": null,
   "metadata": {},
   "outputs": [],
   "source": []
  },
  {
   "cell_type": "code",
   "execution_count": 92,
   "metadata": {},
   "outputs": [
    {
     "name": "stdout",
     "output_type": "stream",
     "text": [
      "d\n",
      "[30]\n",
      "[30]\n"
     ]
    }
   ],
   "source": [
    "Folder_list = 50\n",
    "if isinstance(Folder_list, list)==False:\n",
    "    Folder_list = [Folder_list]\n",
    "    print(\"d\")\n",
    "    \n",
    "\n",
    "Folder_list = [Folder_mapping[i] for i in Folder_list]\n",
    "print(Folder_list)\n",
    "\n",
    "try:\n",
    "    df_new = df[Folder_list]\n",
    "except:\n",
    "    print(\"Not working\")\n",
    "df_new.head()\n",
    "\n",
    "print(df_new.columns.values)"
   ]
  },
  {
   "cell_type": "code",
   "execution_count": 82,
   "metadata": {},
   "outputs": [
    {
     "data": {
      "text/html": [
       "<div>\n",
       "<style scoped>\n",
       "    .dataframe tbody tr th:only-of-type {\n",
       "        vertical-align: middle;\n",
       "    }\n",
       "\n",
       "    .dataframe tbody tr th {\n",
       "        vertical-align: top;\n",
       "    }\n",
       "\n",
       "    .dataframe thead th {\n",
       "        text-align: right;\n",
       "    }\n",
       "</style>\n",
       "<table border=\"1\" class=\"dataframe\">\n",
       "  <thead>\n",
       "    <tr style=\"text-align: right;\">\n",
       "      <th></th>\n",
       "      <th>30</th>\n",
       "      <th>53</th>\n",
       "      <th>102</th>\n",
       "      <th>202</th>\n",
       "    </tr>\n",
       "  </thead>\n",
       "  <tbody>\n",
       "    <tr>\n",
       "      <th>1</th>\n",
       "      <td>-8.013331</td>\n",
       "      <td>-9.967161</td>\n",
       "      <td>-8.013331</td>\n",
       "      <td>-9.967161</td>\n",
       "    </tr>\n",
       "    <tr>\n",
       "      <th>2</th>\n",
       "      <td>-7.730841</td>\n",
       "      <td>-9.499974</td>\n",
       "      <td>-7.730841</td>\n",
       "      <td>-9.499974</td>\n",
       "    </tr>\n",
       "    <tr>\n",
       "      <th>3</th>\n",
       "      <td>-7.453219</td>\n",
       "      <td>-9.038466</td>\n",
       "      <td>-7.453219</td>\n",
       "      <td>-9.038466</td>\n",
       "    </tr>\n",
       "    <tr>\n",
       "      <th>4</th>\n",
       "      <td>-7.180075</td>\n",
       "      <td>-8.582123</td>\n",
       "      <td>-7.180075</td>\n",
       "      <td>-8.582123</td>\n",
       "    </tr>\n",
       "    <tr>\n",
       "      <th>5</th>\n",
       "      <td>-6.911009</td>\n",
       "      <td>-8.130420</td>\n",
       "      <td>-6.911009</td>\n",
       "      <td>-8.130420</td>\n",
       "    </tr>\n",
       "    <tr>\n",
       "      <th>...</th>\n",
       "      <td>...</td>\n",
       "      <td>...</td>\n",
       "      <td>...</td>\n",
       "      <td>...</td>\n",
       "    </tr>\n",
       "    <tr>\n",
       "      <th>25096</th>\n",
       "      <td>-0.047013</td>\n",
       "      <td>0.011656</td>\n",
       "      <td>-0.047013</td>\n",
       "      <td>0.011656</td>\n",
       "    </tr>\n",
       "    <tr>\n",
       "      <th>25097</th>\n",
       "      <td>-0.047012</td>\n",
       "      <td>0.011556</td>\n",
       "      <td>-0.047012</td>\n",
       "      <td>0.011556</td>\n",
       "    </tr>\n",
       "    <tr>\n",
       "      <th>25098</th>\n",
       "      <td>-0.047012</td>\n",
       "      <td>0.011500</td>\n",
       "      <td>-0.047012</td>\n",
       "      <td>0.011500</td>\n",
       "    </tr>\n",
       "    <tr>\n",
       "      <th>25099</th>\n",
       "      <td>-0.047012</td>\n",
       "      <td>0.011468</td>\n",
       "      <td>-0.047012</td>\n",
       "      <td>0.011468</td>\n",
       "    </tr>\n",
       "    <tr>\n",
       "      <th>25100</th>\n",
       "      <td>-0.047011</td>\n",
       "      <td>0.011451</td>\n",
       "      <td>-0.047011</td>\n",
       "      <td>0.011451</td>\n",
       "    </tr>\n",
       "  </tbody>\n",
       "</table>\n",
       "<p>25100 rows × 4 columns</p>\n",
       "</div>"
      ],
      "text/plain": [
       "            30        53        102       202\n",
       "1     -8.013331 -9.967161 -8.013331 -9.967161\n",
       "2     -7.730841 -9.499974 -7.730841 -9.499974\n",
       "3     -7.453219 -9.038466 -7.453219 -9.038466\n",
       "4     -7.180075 -8.582123 -7.180075 -8.582123\n",
       "5     -6.911009 -8.130420 -6.911009 -8.130420\n",
       "...         ...       ...       ...       ...\n",
       "25096 -0.047013  0.011656 -0.047013  0.011656\n",
       "25097 -0.047012  0.011556 -0.047012  0.011556\n",
       "25098 -0.047012  0.011500 -0.047012  0.011500\n",
       "25099 -0.047012  0.011468 -0.047012  0.011468\n",
       "25100 -0.047011  0.011451 -0.047011  0.011451\n",
       "\n",
       "[25100 rows x 4 columns]"
      ]
     },
     "execution_count": 82,
     "metadata": {},
     "output_type": "execute_result"
    }
   ],
   "source": [
    "df"
   ]
  },
  {
   "cell_type": "code",
   "execution_count": null,
   "metadata": {},
   "outputs": [],
   "source": []
  }
 ],
 "metadata": {
  "kernelspec": {
   "display_name": "Python 3",
   "language": "python",
   "name": "python3"
  },
  "language_info": {
   "codemirror_mode": {
    "name": "ipython",
    "version": 3
   },
   "file_extension": ".py",
   "mimetype": "text/x-python",
   "name": "python",
   "nbconvert_exporter": "python",
   "pygments_lexer": "ipython3",
   "version": "3.7.3"
  }
 },
 "nbformat": 4,
 "nbformat_minor": 2
}
